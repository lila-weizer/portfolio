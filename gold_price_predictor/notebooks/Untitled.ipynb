{
 "cells": [
  {
   "cell_type": "markdown",
   "id": "bb593e27-78a0-4bab-a54a-bc78a6db6f5f",
   "metadata": {},
   "source": [
    "## Gold Price Movement Predictor\n",
    "\n",
    "Lila Weizer"
   ]
  },
  {
   "cell_type": "code",
   "execution_count": null,
   "id": "48106351-b865-4e77-b512-f67c05c47388",
   "metadata": {},
   "outputs": [],
   "source": []
  }
 ],
 "metadata": {
  "kernelspec": {
   "display_name": "Python 3 (ipykernel)",
   "language": "python",
   "name": "python3"
  },
  "language_info": {
   "codemirror_mode": {
    "name": "ipython",
    "version": 3
   },
   "file_extension": ".py",
   "mimetype": "text/x-python",
   "name": "python",
   "nbconvert_exporter": "python",
   "pygments_lexer": "ipython3",
   "version": "3.11.9"
  }
 },
 "nbformat": 4,
 "nbformat_minor": 5
}
